{
  "nbformat": 4,
  "nbformat_minor": 0,
  "metadata": {
    "colab": {
      "provenance": []
    },
    "kernelspec": {
      "name": "python3",
      "display_name": "Python 3"
    },
    "language_info": {
      "name": "python"
    }
  },
  "cells": [
    {
      "cell_type": "code",
      "execution_count": 33,
      "metadata": {
        "id": "Lo0k5BGlqjfP"
      },
      "outputs": [],
      "source": [
        "import pandas as pd\n",
        "import numpy as np\n",
        "import matplotlib.pyplot as plt\n",
        "from sklearn.preprocessing import MinMaxScaler\n",
        "from tensorflow.keras.models import Sequential\n",
        "from tensorflow.keras.layers import Dense\n",
        "from tensorflow.keras.layers import LSTM\n",
        "import tensorflow as tf\n",
        "import math\n",
        "from sklearn.metrics import mean_squared_error"
      ]
    },
    {
      "cell_type": "code",
      "source": [
        "data = pd.read_csv('Stock.csv')"
      ],
      "metadata": {
        "id": "awbw3z4lreRg"
      },
      "execution_count": 34,
      "outputs": []
    },
    {
      "cell_type": "code",
      "source": [
        "data.head()"
      ],
      "metadata": {
        "colab": {
          "base_uri": "https://localhost:8080/",
          "height": 330
        },
        "id": "Fl8Hz5S2rg0e",
        "outputId": "80503b7a-49fb-411b-cec5-c20881e34995"
      },
      "execution_count": 35,
      "outputs": [
        {
          "output_type": "execute_result",
          "data": {
            "text/plain": [
              "   Unnamed: 0 symbol                       date    close     high     low  \\\n",
              "0           0   AAPL  2015-05-27 00:00:00+00:00  132.045  132.260  130.05   \n",
              "1           1   AAPL  2015-05-28 00:00:00+00:00  131.780  131.950  131.10   \n",
              "2           2   AAPL  2015-05-29 00:00:00+00:00  130.280  131.450  129.90   \n",
              "3           3   AAPL  2015-06-01 00:00:00+00:00  130.535  131.390  130.05   \n",
              "4           4   AAPL  2015-06-02 00:00:00+00:00  129.960  130.655  129.32   \n",
              "\n",
              "     open    volume    adjClose     adjHigh      adjLow     adjOpen  \\\n",
              "0  130.34  45833246  121.682558  121.880685  119.844118  120.111360   \n",
              "1  131.86  30733309  121.438354  121.595013  120.811718  121.512076   \n",
              "2  131.23  50884452  120.056069  121.134251  119.705890  120.931516   \n",
              "3  131.20  32112797  120.291057  121.078960  119.844118  120.903870   \n",
              "4  129.86  33667627  119.761181  120.401640  119.171406  119.669029   \n",
              "\n",
              "   adjVolume  divCash  splitFactor  \n",
              "0   45833246      0.0          1.0  \n",
              "1   30733309      0.0          1.0  \n",
              "2   50884452      0.0          1.0  \n",
              "3   32112797      0.0          1.0  \n",
              "4   33667627      0.0          1.0  "
            ],
            "text/html": [
              "\n",
              "  <div id=\"df-76f3f23c-5738-4aca-a41f-88c065400f95\" class=\"colab-df-container\">\n",
              "    <div>\n",
              "<style scoped>\n",
              "    .dataframe tbody tr th:only-of-type {\n",
              "        vertical-align: middle;\n",
              "    }\n",
              "\n",
              "    .dataframe tbody tr th {\n",
              "        vertical-align: top;\n",
              "    }\n",
              "\n",
              "    .dataframe thead th {\n",
              "        text-align: right;\n",
              "    }\n",
              "</style>\n",
              "<table border=\"1\" class=\"dataframe\">\n",
              "  <thead>\n",
              "    <tr style=\"text-align: right;\">\n",
              "      <th></th>\n",
              "      <th>Unnamed: 0</th>\n",
              "      <th>symbol</th>\n",
              "      <th>date</th>\n",
              "      <th>close</th>\n",
              "      <th>high</th>\n",
              "      <th>low</th>\n",
              "      <th>open</th>\n",
              "      <th>volume</th>\n",
              "      <th>adjClose</th>\n",
              "      <th>adjHigh</th>\n",
              "      <th>adjLow</th>\n",
              "      <th>adjOpen</th>\n",
              "      <th>adjVolume</th>\n",
              "      <th>divCash</th>\n",
              "      <th>splitFactor</th>\n",
              "    </tr>\n",
              "  </thead>\n",
              "  <tbody>\n",
              "    <tr>\n",
              "      <th>0</th>\n",
              "      <td>0</td>\n",
              "      <td>AAPL</td>\n",
              "      <td>2015-05-27 00:00:00+00:00</td>\n",
              "      <td>132.045</td>\n",
              "      <td>132.260</td>\n",
              "      <td>130.05</td>\n",
              "      <td>130.34</td>\n",
              "      <td>45833246</td>\n",
              "      <td>121.682558</td>\n",
              "      <td>121.880685</td>\n",
              "      <td>119.844118</td>\n",
              "      <td>120.111360</td>\n",
              "      <td>45833246</td>\n",
              "      <td>0.0</td>\n",
              "      <td>1.0</td>\n",
              "    </tr>\n",
              "    <tr>\n",
              "      <th>1</th>\n",
              "      <td>1</td>\n",
              "      <td>AAPL</td>\n",
              "      <td>2015-05-28 00:00:00+00:00</td>\n",
              "      <td>131.780</td>\n",
              "      <td>131.950</td>\n",
              "      <td>131.10</td>\n",
              "      <td>131.86</td>\n",
              "      <td>30733309</td>\n",
              "      <td>121.438354</td>\n",
              "      <td>121.595013</td>\n",
              "      <td>120.811718</td>\n",
              "      <td>121.512076</td>\n",
              "      <td>30733309</td>\n",
              "      <td>0.0</td>\n",
              "      <td>1.0</td>\n",
              "    </tr>\n",
              "    <tr>\n",
              "      <th>2</th>\n",
              "      <td>2</td>\n",
              "      <td>AAPL</td>\n",
              "      <td>2015-05-29 00:00:00+00:00</td>\n",
              "      <td>130.280</td>\n",
              "      <td>131.450</td>\n",
              "      <td>129.90</td>\n",
              "      <td>131.23</td>\n",
              "      <td>50884452</td>\n",
              "      <td>120.056069</td>\n",
              "      <td>121.134251</td>\n",
              "      <td>119.705890</td>\n",
              "      <td>120.931516</td>\n",
              "      <td>50884452</td>\n",
              "      <td>0.0</td>\n",
              "      <td>1.0</td>\n",
              "    </tr>\n",
              "    <tr>\n",
              "      <th>3</th>\n",
              "      <td>3</td>\n",
              "      <td>AAPL</td>\n",
              "      <td>2015-06-01 00:00:00+00:00</td>\n",
              "      <td>130.535</td>\n",
              "      <td>131.390</td>\n",
              "      <td>130.05</td>\n",
              "      <td>131.20</td>\n",
              "      <td>32112797</td>\n",
              "      <td>120.291057</td>\n",
              "      <td>121.078960</td>\n",
              "      <td>119.844118</td>\n",
              "      <td>120.903870</td>\n",
              "      <td>32112797</td>\n",
              "      <td>0.0</td>\n",
              "      <td>1.0</td>\n",
              "    </tr>\n",
              "    <tr>\n",
              "      <th>4</th>\n",
              "      <td>4</td>\n",
              "      <td>AAPL</td>\n",
              "      <td>2015-06-02 00:00:00+00:00</td>\n",
              "      <td>129.960</td>\n",
              "      <td>130.655</td>\n",
              "      <td>129.32</td>\n",
              "      <td>129.86</td>\n",
              "      <td>33667627</td>\n",
              "      <td>119.761181</td>\n",
              "      <td>120.401640</td>\n",
              "      <td>119.171406</td>\n",
              "      <td>119.669029</td>\n",
              "      <td>33667627</td>\n",
              "      <td>0.0</td>\n",
              "      <td>1.0</td>\n",
              "    </tr>\n",
              "  </tbody>\n",
              "</table>\n",
              "</div>\n",
              "    <div class=\"colab-df-buttons\">\n",
              "\n",
              "  <div class=\"colab-df-container\">\n",
              "    <button class=\"colab-df-convert\" onclick=\"convertToInteractive('df-76f3f23c-5738-4aca-a41f-88c065400f95')\"\n",
              "            title=\"Convert this dataframe to an interactive table.\"\n",
              "            style=\"display:none;\">\n",
              "\n",
              "  <svg xmlns=\"http://www.w3.org/2000/svg\" height=\"24px\" viewBox=\"0 -960 960 960\">\n",
              "    <path d=\"M120-120v-720h720v720H120Zm60-500h600v-160H180v160Zm220 220h160v-160H400v160Zm0 220h160v-160H400v160ZM180-400h160v-160H180v160Zm440 0h160v-160H620v160ZM180-180h160v-160H180v160Zm440 0h160v-160H620v160Z\"/>\n",
              "  </svg>\n",
              "    </button>\n",
              "\n",
              "  <style>\n",
              "    .colab-df-container {\n",
              "      display:flex;\n",
              "      gap: 12px;\n",
              "    }\n",
              "\n",
              "    .colab-df-convert {\n",
              "      background-color: #E8F0FE;\n",
              "      border: none;\n",
              "      border-radius: 50%;\n",
              "      cursor: pointer;\n",
              "      display: none;\n",
              "      fill: #1967D2;\n",
              "      height: 32px;\n",
              "      padding: 0 0 0 0;\n",
              "      width: 32px;\n",
              "    }\n",
              "\n",
              "    .colab-df-convert:hover {\n",
              "      background-color: #E2EBFA;\n",
              "      box-shadow: 0px 1px 2px rgba(60, 64, 67, 0.3), 0px 1px 3px 1px rgba(60, 64, 67, 0.15);\n",
              "      fill: #174EA6;\n",
              "    }\n",
              "\n",
              "    .colab-df-buttons div {\n",
              "      margin-bottom: 4px;\n",
              "    }\n",
              "\n",
              "    [theme=dark] .colab-df-convert {\n",
              "      background-color: #3B4455;\n",
              "      fill: #D2E3FC;\n",
              "    }\n",
              "\n",
              "    [theme=dark] .colab-df-convert:hover {\n",
              "      background-color: #434B5C;\n",
              "      box-shadow: 0px 1px 3px 1px rgba(0, 0, 0, 0.15);\n",
              "      filter: drop-shadow(0px 1px 2px rgba(0, 0, 0, 0.3));\n",
              "      fill: #FFFFFF;\n",
              "    }\n",
              "  </style>\n",
              "\n",
              "    <script>\n",
              "      const buttonEl =\n",
              "        document.querySelector('#df-76f3f23c-5738-4aca-a41f-88c065400f95 button.colab-df-convert');\n",
              "      buttonEl.style.display =\n",
              "        google.colab.kernel.accessAllowed ? 'block' : 'none';\n",
              "\n",
              "      async function convertToInteractive(key) {\n",
              "        const element = document.querySelector('#df-76f3f23c-5738-4aca-a41f-88c065400f95');\n",
              "        const dataTable =\n",
              "          await google.colab.kernel.invokeFunction('convertToInteractive',\n",
              "                                                    [key], {});\n",
              "        if (!dataTable) return;\n",
              "\n",
              "        const docLinkHtml = 'Like what you see? Visit the ' +\n",
              "          '<a target=\"_blank\" href=https://colab.research.google.com/notebooks/data_table.ipynb>data table notebook</a>'\n",
              "          + ' to learn more about interactive tables.';\n",
              "        element.innerHTML = '';\n",
              "        dataTable['output_type'] = 'display_data';\n",
              "        await google.colab.output.renderOutput(dataTable, element);\n",
              "        const docLink = document.createElement('div');\n",
              "        docLink.innerHTML = docLinkHtml;\n",
              "        element.appendChild(docLink);\n",
              "      }\n",
              "    </script>\n",
              "  </div>\n",
              "\n",
              "\n",
              "<div id=\"df-030be693-fa57-4b00-a1d4-52bb40ec8f9c\">\n",
              "  <button class=\"colab-df-quickchart\" onclick=\"quickchart('df-030be693-fa57-4b00-a1d4-52bb40ec8f9c')\"\n",
              "            title=\"Suggest charts\"\n",
              "            style=\"display:none;\">\n",
              "\n",
              "<svg xmlns=\"http://www.w3.org/2000/svg\" height=\"24px\"viewBox=\"0 0 24 24\"\n",
              "     width=\"24px\">\n",
              "    <g>\n",
              "        <path d=\"M19 3H5c-1.1 0-2 .9-2 2v14c0 1.1.9 2 2 2h14c1.1 0 2-.9 2-2V5c0-1.1-.9-2-2-2zM9 17H7v-7h2v7zm4 0h-2V7h2v10zm4 0h-2v-4h2v4z\"/>\n",
              "    </g>\n",
              "</svg>\n",
              "  </button>\n",
              "\n",
              "<style>\n",
              "  .colab-df-quickchart {\n",
              "      --bg-color: #E8F0FE;\n",
              "      --fill-color: #1967D2;\n",
              "      --hover-bg-color: #E2EBFA;\n",
              "      --hover-fill-color: #174EA6;\n",
              "      --disabled-fill-color: #AAA;\n",
              "      --disabled-bg-color: #DDD;\n",
              "  }\n",
              "\n",
              "  [theme=dark] .colab-df-quickchart {\n",
              "      --bg-color: #3B4455;\n",
              "      --fill-color: #D2E3FC;\n",
              "      --hover-bg-color: #434B5C;\n",
              "      --hover-fill-color: #FFFFFF;\n",
              "      --disabled-bg-color: #3B4455;\n",
              "      --disabled-fill-color: #666;\n",
              "  }\n",
              "\n",
              "  .colab-df-quickchart {\n",
              "    background-color: var(--bg-color);\n",
              "    border: none;\n",
              "    border-radius: 50%;\n",
              "    cursor: pointer;\n",
              "    display: none;\n",
              "    fill: var(--fill-color);\n",
              "    height: 32px;\n",
              "    padding: 0;\n",
              "    width: 32px;\n",
              "  }\n",
              "\n",
              "  .colab-df-quickchart:hover {\n",
              "    background-color: var(--hover-bg-color);\n",
              "    box-shadow: 0 1px 2px rgba(60, 64, 67, 0.3), 0 1px 3px 1px rgba(60, 64, 67, 0.15);\n",
              "    fill: var(--button-hover-fill-color);\n",
              "  }\n",
              "\n",
              "  .colab-df-quickchart-complete:disabled,\n",
              "  .colab-df-quickchart-complete:disabled:hover {\n",
              "    background-color: var(--disabled-bg-color);\n",
              "    fill: var(--disabled-fill-color);\n",
              "    box-shadow: none;\n",
              "  }\n",
              "\n",
              "  .colab-df-spinner {\n",
              "    border: 2px solid var(--fill-color);\n",
              "    border-color: transparent;\n",
              "    border-bottom-color: var(--fill-color);\n",
              "    animation:\n",
              "      spin 1s steps(1) infinite;\n",
              "  }\n",
              "\n",
              "  @keyframes spin {\n",
              "    0% {\n",
              "      border-color: transparent;\n",
              "      border-bottom-color: var(--fill-color);\n",
              "      border-left-color: var(--fill-color);\n",
              "    }\n",
              "    20% {\n",
              "      border-color: transparent;\n",
              "      border-left-color: var(--fill-color);\n",
              "      border-top-color: var(--fill-color);\n",
              "    }\n",
              "    30% {\n",
              "      border-color: transparent;\n",
              "      border-left-color: var(--fill-color);\n",
              "      border-top-color: var(--fill-color);\n",
              "      border-right-color: var(--fill-color);\n",
              "    }\n",
              "    40% {\n",
              "      border-color: transparent;\n",
              "      border-right-color: var(--fill-color);\n",
              "      border-top-color: var(--fill-color);\n",
              "    }\n",
              "    60% {\n",
              "      border-color: transparent;\n",
              "      border-right-color: var(--fill-color);\n",
              "    }\n",
              "    80% {\n",
              "      border-color: transparent;\n",
              "      border-right-color: var(--fill-color);\n",
              "      border-bottom-color: var(--fill-color);\n",
              "    }\n",
              "    90% {\n",
              "      border-color: transparent;\n",
              "      border-bottom-color: var(--fill-color);\n",
              "    }\n",
              "  }\n",
              "</style>\n",
              "\n",
              "  <script>\n",
              "    async function quickchart(key) {\n",
              "      const quickchartButtonEl =\n",
              "        document.querySelector('#' + key + ' button');\n",
              "      quickchartButtonEl.disabled = true;  // To prevent multiple clicks.\n",
              "      quickchartButtonEl.classList.add('colab-df-spinner');\n",
              "      try {\n",
              "        const charts = await google.colab.kernel.invokeFunction(\n",
              "            'suggestCharts', [key], {});\n",
              "      } catch (error) {\n",
              "        console.error('Error during call to suggestCharts:', error);\n",
              "      }\n",
              "      quickchartButtonEl.classList.remove('colab-df-spinner');\n",
              "      quickchartButtonEl.classList.add('colab-df-quickchart-complete');\n",
              "    }\n",
              "    (() => {\n",
              "      let quickchartButtonEl =\n",
              "        document.querySelector('#df-030be693-fa57-4b00-a1d4-52bb40ec8f9c button');\n",
              "      quickchartButtonEl.style.display =\n",
              "        google.colab.kernel.accessAllowed ? 'block' : 'none';\n",
              "    })();\n",
              "  </script>\n",
              "</div>\n",
              "\n",
              "    </div>\n",
              "  </div>\n"
            ],
            "application/vnd.google.colaboratory.intrinsic+json": {
              "type": "dataframe",
              "variable_name": "data",
              "summary": "{\n  \"name\": \"data\",\n  \"rows\": 1258,\n  \"fields\": [\n    {\n      \"column\": \"Unnamed: 0\",\n      \"properties\": {\n        \"dtype\": \"number\",\n        \"std\": 363,\n        \"min\": 0,\n        \"max\": 1257,\n        \"num_unique_values\": 1258,\n        \"samples\": [\n          561,\n          101,\n          51\n        ],\n        \"semantic_type\": \"\",\n        \"description\": \"\"\n      }\n    },\n    {\n      \"column\": \"symbol\",\n      \"properties\": {\n        \"dtype\": \"category\",\n        \"num_unique_values\": 1,\n        \"samples\": [\n          \"AAPL\"\n        ],\n        \"semantic_type\": \"\",\n        \"description\": \"\"\n      }\n    },\n    {\n      \"column\": \"date\",\n      \"properties\": {\n        \"dtype\": \"object\",\n        \"num_unique_values\": 1258,\n        \"samples\": [\n          \"2017-08-16 00:00:00+00:00\"\n        ],\n        \"semantic_type\": \"\",\n        \"description\": \"\"\n      }\n    },\n    {\n      \"column\": \"close\",\n      \"properties\": {\n        \"dtype\": \"number\",\n        \"std\": 56.85079637576302,\n        \"min\": 90.34,\n        \"max\": 327.2,\n        \"num_unique_values\": 1201,\n        \"samples\": [\n          97.9\n        ],\n        \"semantic_type\": \"\",\n        \"description\": \"\"\n      }\n    },\n    {\n      \"column\": \"high\",\n      \"properties\": {\n        \"dtype\": \"number\",\n        \"std\": 57.500128210420044,\n        \"min\": 91.67,\n        \"max\": 327.85,\n        \"num_unique_values\": 1196,\n        \"samples\": [\n          177.78\n        ],\n        \"semantic_type\": \"\",\n        \"description\": \"\"\n      }\n    },\n    {\n      \"column\": \"low\",\n      \"properties\": {\n        \"dtype\": \"number\",\n        \"std\": 56.0067733750934,\n        \"min\": 89.47,\n        \"max\": 323.35,\n        \"num_unique_values\": 1209,\n        \"samples\": [\n          113.7\n        ],\n        \"semantic_type\": \"\",\n        \"description\": \"\"\n      }\n    },\n    {\n      \"column\": \"open\",\n      \"properties\": {\n        \"dtype\": \"number\",\n        \"std\": 56.612706510014405,\n        \"min\": 90.0,\n        \"max\": 324.73,\n        \"num_unique_values\": 1205,\n        \"samples\": [\n          114.0\n        ],\n        \"semantic_type\": \"\",\n        \"description\": \"\"\n      }\n    },\n    {\n      \"column\": \"volume\",\n      \"properties\": {\n        \"dtype\": \"number\",\n        \"std\": 17290996,\n        \"min\": 11362045,\n        \"max\": 162206292,\n        \"num_unique_values\": 1258,\n        \"samples\": [\n          27321761\n        ],\n        \"semantic_type\": \"\",\n        \"description\": \"\"\n      }\n    },\n    {\n      \"column\": \"adjClose\",\n      \"properties\": {\n        \"dtype\": \"number\",\n        \"std\": 58.73382042107333,\n        \"min\": 84.9543507876,\n        \"max\": 326.3371474514,\n        \"num_unique_values\": 1240,\n        \"samples\": [\n          115.3255043138\n        ],\n        \"semantic_type\": \"\",\n        \"description\": \"\"\n      }\n    },\n    {\n      \"column\": \"adjHigh\",\n      \"properties\": {\n        \"dtype\": \"number\",\n        \"std\": 59.4028420444512,\n        \"min\": 86.2050623943,\n        \"max\": 326.3570947098,\n        \"num_unique_values\": 1237,\n        \"samples\": [\n          167.7436178294\n        ],\n        \"semantic_type\": \"\",\n        \"description\": \"\"\n      }\n    },\n    {\n      \"column\": \"adjLow\",\n      \"properties\": {\n        \"dtype\": \"number\",\n        \"std\": 57.86924613698459,\n        \"min\": 84.13621612760001,\n        \"max\": 322.497300209,\n        \"num_unique_values\": 1238,\n        \"samples\": [\n          164.4602079237\n        ],\n        \"semantic_type\": \"\",\n        \"description\": \"\"\n      }\n    },\n    {\n      \"column\": \"adjOpen\",\n      \"properties\": {\n        \"dtype\": \"number\",\n        \"std\": 58.494560063550416,\n        \"min\": 84.6346200009,\n        \"max\": 323.87366103880004,\n        \"num_unique_values\": 1237,\n        \"samples\": [\n          165.310031664\n        ],\n        \"semantic_type\": \"\",\n        \"description\": \"\"\n      }\n    },\n    {\n      \"column\": \"adjVolume\",\n      \"properties\": {\n        \"dtype\": \"number\",\n        \"std\": 17290996,\n        \"min\": 11362045,\n        \"max\": 162206292,\n        \"num_unique_values\": 1258,\n        \"samples\": [\n          27321761\n        ],\n        \"semantic_type\": \"\",\n        \"description\": \"\"\n      }\n    },\n    {\n      \"column\": \"divCash\",\n      \"properties\": {\n        \"dtype\": \"number\",\n        \"std\": 0.08336553314965248,\n        \"min\": 0.0,\n        \"max\": 0.82,\n        \"num_unique_values\": 7,\n        \"samples\": [\n          0.0\n        ],\n        \"semantic_type\": \"\",\n        \"description\": \"\"\n      }\n    },\n    {\n      \"column\": \"splitFactor\",\n      \"properties\": {\n        \"dtype\": \"number\",\n        \"std\": 0.0,\n        \"min\": 1.0,\n        \"max\": 1.0,\n        \"num_unique_values\": 1,\n        \"samples\": [\n          1.0\n        ],\n        \"semantic_type\": \"\",\n        \"description\": \"\"\n      }\n    }\n  ]\n}"
            }
          },
          "metadata": {},
          "execution_count": 35
        }
      ]
    },
    {
      "cell_type": "code",
      "source": [
        "data1 = data.reset_index()['close']"
      ],
      "metadata": {
        "id": "r1L4B5aQrlxl"
      },
      "execution_count": 36,
      "outputs": []
    },
    {
      "cell_type": "code",
      "source": [
        "data1"
      ],
      "metadata": {
        "colab": {
          "base_uri": "https://localhost:8080/"
        },
        "id": "6zK7cty1ro7g",
        "outputId": "02e7f9f7-c870-432d-e797-4e602b2ee4a6"
      },
      "execution_count": 37,
      "outputs": [
        {
          "output_type": "execute_result",
          "data": {
            "text/plain": [
              "0       132.045\n",
              "1       131.780\n",
              "2       130.280\n",
              "3       130.535\n",
              "4       129.960\n",
              "         ...   \n",
              "1253    314.960\n",
              "1254    313.140\n",
              "1255    319.230\n",
              "1256    316.850\n",
              "1257    318.890\n",
              "Name: close, Length: 1258, dtype: float64"
            ]
          },
          "metadata": {},
          "execution_count": 37
        }
      ]
    },
    {
      "cell_type": "code",
      "source": [
        "data1.shape"
      ],
      "metadata": {
        "colab": {
          "base_uri": "https://localhost:8080/"
        },
        "id": "voviXZt8rqr8",
        "outputId": "593bb4d1-cea6-4d27-9aed-3bacda423e98"
      },
      "execution_count": 38,
      "outputs": [
        {
          "output_type": "execute_result",
          "data": {
            "text/plain": [
              "(1258,)"
            ]
          },
          "metadata": {},
          "execution_count": 38
        }
      ]
    },
    {
      "cell_type": "code",
      "source": [
        "plt.plot(data1 , color = \"purple\")"
      ],
      "metadata": {
        "colab": {
          "base_uri": "https://localhost:8080/",
          "height": 447
        },
        "id": "0iksbMXjrxbD",
        "outputId": "5691e161-ec4c-4385-a0fc-3e9af2ea6b7c"
      },
      "execution_count": 39,
      "outputs": [
        {
          "output_type": "execute_result",
          "data": {
            "text/plain": [
              "[<matplotlib.lines.Line2D at 0x7b091ac51b10>]"
            ]
          },
          "metadata": {},
          "execution_count": 39
        },
        {
          "output_type": "display_data",
          "data": {
            "text/plain": [
              "<Figure size 640x480 with 1 Axes>"
            ],
            "image/png": "[encoded data removed]"
          },
          "metadata": {}
        }
      ]
    },
    {
      "cell_type": "code",
      "source": [
        "scaler = MinMaxScaler(feature_range=(0,1))"
      ],
      "metadata": {
        "id": "DEz6RLcZr0Mq"
      },
      "execution_count": 40,
      "outputs": []
    },
    {
      "cell_type": "code",
      "source": [
        "data1 = scaler.fit_transform(np.array(data1).reshape(-1,1))"
      ],
      "metadata": {
        "id": "V0MFXVMvr3Mn"
      },
      "execution_count": 41,
      "outputs": []
    },
    {
      "cell_type": "code",
      "source": [
        "data1"
      ],
      "metadata": {
        "colab": {
          "base_uri": "https://localhost:8080/"
        },
        "id": "rnt-N-IUr5n0",
        "outputId": "6f691dfe-6dc8-49e7-ce97-40f46bb0190d"
      },
      "execution_count": 42,
      "outputs": [
        {
          "output_type": "execute_result",
          "data": {
            "text/plain": [
              "array([[0.17607447],\n",
              "       [0.17495567],\n",
              "       [0.16862282],\n",
              "       ...,\n",
              "       [0.96635143],\n",
              "       [0.9563033 ],\n",
              "       [0.96491598]])"
            ]
          },
          "metadata": {},
          "execution_count": 42
        }
      ]
    },
    {
      "cell_type": "code",
      "source": [
        "# splitting the dataset into train and test split :\n",
        "training_size = int(len(data1)*0.65)"
      ],
      "metadata": {
        "id": "ifUfjOfKr67f"
      },
      "execution_count": 43,
      "outputs": []
    },
    {
      "cell_type": "code",
      "source": [
        "test_size = len(data1) - training_size"
      ],
      "metadata": {
        "id": "NT-DFEICr9s2"
      },
      "execution_count": 44,
      "outputs": []
    },
    {
      "cell_type": "code",
      "source": [
        "train_data,test_data = data1[0:training_size,:],data1[training_size:len(data1),:1]"
      ],
      "metadata": {
        "id": "C2DEdpMvsAe3"
      },
      "execution_count": 45,
      "outputs": []
    },
    {
      "cell_type": "code",
      "source": [
        "len(train_data)"
      ],
      "metadata": {
        "colab": {
          "base_uri": "https://localhost:8080/"
        },
        "id": "mi7XsYbosCvW",
        "outputId": "6648d088-c748-4a4a-b5df-62944f871cc2"
      },
      "execution_count": 46,
      "outputs": [
        {
          "output_type": "execute_result",
          "data": {
            "text/plain": [
              "817"
            ]
          },
          "metadata": {},
          "execution_count": 46
        }
      ]
    },
    {
      "cell_type": "code",
      "source": [
        "len(test_data)"
      ],
      "metadata": {
        "colab": {
          "base_uri": "https://localhost:8080/"
        },
        "id": "h_v63k49sFCH",
        "outputId": "182f287b-eede-43c4-e52c-312067492d8a"
      },
      "execution_count": 47,
      "outputs": [
        {
          "output_type": "execute_result",
          "data": {
            "text/plain": [
              "441"
            ]
          },
          "metadata": {},
          "execution_count": 47
        }
      ]
    },
    {
      "cell_type": "code",
      "source": [
        "# converting the array values into a dataset matrix :\n",
        "def create_dataset(dataset, time_step = 1):\n",
        "    dataX , dataY = [], []\n",
        "    for i in range(len(dataset) - time_step - 1 ):\n",
        "        a = dataset[i:(i + time_step), 0]\n",
        "        dataX.append(a)\n",
        "        dataY.append(dataset[i + time_step, 0])\n",
        "    return np.array(dataX), np.array(dataY)"
      ],
      "metadata": {
        "id": "jJEGA1x7sIlZ"
      },
      "execution_count": 48,
      "outputs": []
    },
    {
      "cell_type": "code",
      "source": [
        "time_step = 100"
      ],
      "metadata": {
        "id": "T7ahzDILsL_G"
      },
      "execution_count": 49,
      "outputs": []
    },
    {
      "cell_type": "code",
      "source": [
        "X_train, y_train = create_dataset(train_data, time_step)\n",
        "\n",
        "X_test, y_test = create_dataset(test_data, time_step)"
      ],
      "metadata": {
        "id": "nJOcrgV4sQHY"
      },
      "execution_count": 50,
      "outputs": []
    },
    {
      "cell_type": "code",
      "source": [
        "X_train.shape"
      ],
      "metadata": {
        "colab": {
          "base_uri": "https://localhost:8080/"
        },
        "id": "yhZe5CP1sQum",
        "outputId": "849354b3-7075-4a26-b482-e4b9da993856"
      },
      "execution_count": 51,
      "outputs": [
        {
          "output_type": "execute_result",
          "data": {
            "text/plain": [
              "(716, 100)"
            ]
          },
          "metadata": {},
          "execution_count": 51
        }
      ]
    },
    {
      "cell_type": "code",
      "source": [
        "X_train, y_train = create_dataset(train_data, time_step)\n",
        "\n",
        "X_test, y_test = create_dataset(test_data, time_step)"
      ],
      "metadata": {
        "id": "MH4J87OUsS2L"
      },
      "execution_count": 52,
      "outputs": []
    },
    {
      "cell_type": "code",
      "source": [
        "X_train.shape"
      ],
      "metadata": {
        "colab": {
          "base_uri": "https://localhost:8080/"
        },
        "id": "tIvxPWbXsZxD",
        "outputId": "3c9ce8a9-ba80-462a-913d-ec82d01ecc59"
      },
      "execution_count": 53,
      "outputs": [
        {
          "output_type": "execute_result",
          "data": {
            "text/plain": [
              "(716, 100)"
            ]
          },
          "metadata": {},
          "execution_count": 53
        }
      ]
    },
    {
      "cell_type": "code",
      "source": [
        "y_train.shape"
      ],
      "metadata": {
        "colab": {
          "base_uri": "https://localhost:8080/"
        },
        "id": "kc6OwxVysbnc",
        "outputId": "d995ec90-949b-40c3-8b48-bf2b6ecd600e"
      },
      "execution_count": 54,
      "outputs": [
        {
          "output_type": "execute_result",
          "data": {
            "text/plain": [
              "(716,)"
            ]
          },
          "metadata": {},
          "execution_count": 54
        }
      ]
    },
    {
      "cell_type": "code",
      "source": [
        "X_test.shape"
      ],
      "metadata": {
        "colab": {
          "base_uri": "https://localhost:8080/"
        },
        "id": "Nv8yceYZsevU",
        "outputId": "c28b9651-e134-408b-ffa5-bce94313ad70"
      },
      "execution_count": 55,
      "outputs": [
        {
          "output_type": "execute_result",
          "data": {
            "text/plain": [
              "(340, 100)"
            ]
          },
          "metadata": {},
          "execution_count": 55
        }
      ]
    },
    {
      "cell_type": "code",
      "source": [
        "y_test.shape"
      ],
      "metadata": {
        "colab": {
          "base_uri": "https://localhost:8080/"
        },
        "id": "4GZhNpy2shqB",
        "outputId": "ce91b515-c24a-48b0-a27b-2af4251a9bca"
      },
      "execution_count": 56,
      "outputs": [
        {
          "output_type": "execute_result",
          "data": {
            "text/plain": [
              "(340,)"
            ]
          },
          "metadata": {},
          "execution_count": 56
        }
      ]
    },
    {
      "cell_type": "code",
      "source": [
        "# reshape the input to be in [samples, time steps, features] which is required for LSTM\n",
        "X_train = X_train.reshape(X_train.shape[0],X_train.shape[1] , 1)"
      ],
      "metadata": {
        "id": "H6GeGP3lsnAb"
      },
      "execution_count": 57,
      "outputs": []
    },
    {
      "cell_type": "code",
      "source": [
        "X_test = X_test.reshape(X_test.shape[0],X_test.shape[1] , 1)"
      ],
      "metadata": {
        "id": "tYFNFmhasoQM"
      },
      "execution_count": 58,
      "outputs": []
    },
    {
      "cell_type": "code",
      "source": [
        "model=Sequential()"
      ],
      "metadata": {
        "id": "AXP_yvXZsqFa"
      },
      "execution_count": 59,
      "outputs": []
    },
    {
      "cell_type": "code",
      "source": [
        "model.add(LSTM(50,return_sequences = True,input_shape = (100,1)))\n",
        "model.add(LSTM(50,return_sequences = True))\n",
        "model.add(LSTM(50))\n",
        "model.add(Dense(1))\n",
        "model.compile(loss='mean_squared_error', optimizer = 'adam')"
      ],
      "metadata": {
        "id": "LWXMm1_EssZc"
      },
      "execution_count": 60,
      "outputs": []
    },
    {
      "cell_type": "code",
      "source": [
        "model.summary()"
      ],
      "metadata": {
        "colab": {
          "base_uri": "https://localhost:8080/"
        },
        "id": "KtM75Shhsv4l",
        "outputId": "50da9dcd-de1b-4e9b-bf61-4755cdd9a000"
      },
      "execution_count": 61,
      "outputs": [
        {
          "output_type": "stream",
          "name": "stdout",
          "text": [
            "Model: \"sequential_1\"\n",
            "_________________________________________________________________\n",
            " Layer (type)                Output Shape              Param #   \n",
            "=================================================================\n",
            " lstm_3 (LSTM)               (None, 100, 50)           10400     \n",
            "                                                                 \n",
            " lstm_4 (LSTM)               (None, 100, 50)           20200     \n",
            "                                                                 \n",
            " lstm_5 (LSTM)               (None, 50)                20200     \n",
            "                                                                 \n",
            " dense_1 (Dense)             (None, 1)                 51        \n",
            "                                                                 \n",
            "=================================================================\n",
            "Total params: 50851 (198.64 KB)\n",
            "Trainable params: 50851 (198.64 KB)\n",
            "Non-trainable params: 0 (0.00 Byte)\n",
            "_________________________________________________________________\n"
          ]
        }
      ]
    },
    {
      "cell_type": "code",
      "source": [
        "# prediction and performance metrics:\n",
        "train_predict = model.predict(X_train)\n",
        "test_predict = model.predict(X_test)"
      ],
      "metadata": {
        "colab": {
          "base_uri": "https://localhost:8080/"
        },
        "id": "s-YrIrfcs08h",
        "outputId": "b5409bf6-8230-4f33-f523-32723d63754f"
      },
      "execution_count": 62,
      "outputs": [
        {
          "output_type": "stream",
          "name": "stdout",
          "text": [
            "23/23 [==============================] - 48s 36ms/step\n",
            "11/11 [==============================] - 0s 34ms/step\n"
          ]
        }
      ]
    },
    {
      "cell_type": "code",
      "source": [
        "# Back to original form :\n",
        "train_predict = scaler.inverse_transform(train_predict)\n",
        "test_predict = scaler.inverse_transform(test_predict)"
      ],
      "metadata": {
        "id": "yXC1O250s4Xn"
      },
      "execution_count": 63,
      "outputs": []
    },
    {
      "cell_type": "code",
      "source": [
        "# RMSE performance metrics (Training dataset):\n",
        "math.sqrt(mean_squared_error(y_train,train_predict))"
      ],
      "metadata": {
        "colab": {
          "base_uri": "https://localhost:8080/"
        },
        "id": "mCmkkVmntAHU",
        "outputId": "d555d679-7d6d-4c26-be18-5802b018efc8"
      },
      "execution_count": 64,
      "outputs": [
        {
          "output_type": "execute_result",
          "data": {
            "text/plain": [
              "87.71849990672266"
            ]
          },
          "metadata": {},
          "execution_count": 64
        }
      ]
    },
    {
      "cell_type": "code",
      "source": [
        "# RMSE performance metrics (Test dataset):\n",
        "math.sqrt(mean_squared_error(y_test,test_predict))"
      ],
      "metadata": {
        "colab": {
          "base_uri": "https://localhost:8080/"
        },
        "id": "652J3IYxtCKj",
        "outputId": "68250251-40dc-4111-9879-d835a989eaf2"
      },
      "execution_count": 65,
      "outputs": [
        {
          "output_type": "execute_result",
          "data": {
            "text/plain": [
              "82.58362183308463"
            ]
          },
          "metadata": {},
          "execution_count": 65
        }
      ]
    },
    {
      "cell_type": "code",
      "source": [
        "# shifting train predictions for plotting\n",
        "look_back=100\n",
        "trainPredictPlot = np.empty_like(data1)\n",
        "trainPredictPlot[:, :] = np.nan\n",
        "trainPredictPlot[look_back:len(train_predict)+look_back, :] = train_predict\n",
        "# shifting test predictions for plotting\n",
        "testPredictPlot = np.empty_like(data1)\n",
        "testPredictPlot[:, :] = np.nan\n",
        "testPredictPlot[len(train_predict)+(look_back*2)+1:len(data1)-1, :] = test_predict"
      ],
      "metadata": {
        "id": "VveI_06ltEPw"
      },
      "execution_count": 66,
      "outputs": []
    },
    {
      "cell_type": "code",
      "source": [
        "# ploting baseline and predictions\n",
        "plt.plot(scaler.inverse_transform(data1) , color = \"yellow\")\n",
        "plt.plot(trainPredictPlot , color = \"blue\") # train predict data\n",
        "plt.plot(testPredictPlot  , color = \"red\") # test predict data\n",
        "plt.show()"
      ],
      "metadata": {
        "colab": {
          "base_uri": "https://localhost:8080/",
          "height": 430
        },
        "id": "WODmvMEXtGbX",
        "outputId": "b5321538-0788-49a5-f257-b56b32dbb361"
      },
      "execution_count": 67,
      "outputs": [
        {
          "output_type": "display_data",
          "data": {
            "text/plain": [
              "<Figure size 640x480 with 1 Axes>"
            ],
            "image/png": "[encoded data removed]"
          },
          "metadata": {}
        }
      ]
    },
    {
      "cell_type": "code",
      "source": [
        "# previous 100 days:\n",
        "x_input = test_data[341:].reshape(1,-1)\n",
        "x_input.shape"
      ],
      "metadata": {
        "colab": {
          "base_uri": "https://localhost:8080/"
        },
        "id": "eG7RVGyBtIXG",
        "outputId": "09a5c172-6b3f-4d31-9fe5-b2371bbccfcb"
      },
      "execution_count": 68,
      "outputs": [
        {
          "output_type": "execute_result",
          "data": {
            "text/plain": [
              "(1, 100)"
            ]
          },
          "metadata": {},
          "execution_count": 68
        }
      ]
    },
    {
      "cell_type": "code",
      "source": [
        "temp_input = list(x_input)"
      ],
      "metadata": {
        "id": "lhtyj6fTtLaw"
      },
      "execution_count": 69,
      "outputs": []
    },
    {
      "cell_type": "code",
      "source": [
        "temp_input = temp_input[0].tolist()"
      ],
      "metadata": {
        "id": "9a0CZLg5tQmi"
      },
      "execution_count": 70,
      "outputs": []
    },
    {
      "cell_type": "code",
      "source": [
        "# demonstrate prediction for next 30 days\n",
        "lst_output=[]\n",
        "n_steps=100\n",
        "i=0\n",
        "while(i<30):\n",
        "\n",
        "    if(len(temp_input)>100):\n",
        "        #print(temp_input)\n",
        "        x_input = np.array(temp_input[1:])\n",
        "        print(\"{} day input {}\".format(i,x_input))\n",
        "        x_input = x_input.reshape(1,-1)\n",
        "        x_input = x_input.reshape((1, n_steps, 1))\n",
        "        # print(x_input)\n",
        "        yhat = model.predict(x_input, verbose=0)\n",
        "        print(\"{} day output {}\".format(i,yhat))\n",
        "        temp_input.extend(yhat[0].tolist())\n",
        "        temp_input=temp_input[1:]\n",
        "        lst_output.extend(yhat.tolist())\n",
        "        i=i+1\n",
        "    else:\n",
        "        x_input = x_input.reshape((1, n_steps,1))\n",
        "        yhat = model.predict(x_input, verbose=0)\n",
        "        print(yhat[0])\n",
        "        temp_input.extend(yhat[0].tolist())\n",
        "        print(len(temp_input))\n",
        "        lst_output.extend(yhat.tolist())\n",
        "        i=i+1\n",
        "\n",
        "\n",
        "print(lst_output)"
      ],
      "metadata": {
        "colab": {
          "base_uri": "https://localhost:8080/"
        },
        "id": "sfxU5BrAtSTZ",
        "outputId": "8c974a7a-6ffe-4160-f8ee-d15ae23e536c"
      },
      "execution_count": 74,
      "outputs": [
        {
          "output_type": "stream",
          "name": "stdout",
          "text": [
            "[-0.04579764]\n",
            "101\n",
            "1 day input [ 0.8866419   0.87431394  0.88431985  0.87836697  0.8986321   0.92582116\n",
            "  0.92877649  0.95676771  0.93869797  0.93304061  0.94950604  0.96424048\n",
            "  0.95512117  0.95989192  0.96635143  0.96246728  0.92295027  0.9598497\n",
            "  0.98792536  0.98594106  0.92531453  0.92172591  0.96474711  0.97572406\n",
            "  0.99159841  0.96972895  0.97614625  0.96795575  1.          0.99016297\n",
            "  0.99050072  0.96538039  0.98488559  0.97086887  0.94026007  0.87748037\n",
            "  0.83483915  0.85413324  0.77336823  0.77269273  0.88014017  0.84007431\n",
            "  0.89673225  0.85527316  0.83884995  0.74233725  0.82327113  0.78143207\n",
            "  0.6665963   0.7921557   0.64118044  0.68614371  0.66001013  0.65203074\n",
            "  0.58642236  0.56586169  0.66089673  0.65515494  0.70970193  0.66452757\n",
            "  0.69437642  0.69218104  0.63569197  0.65266402  0.63780292  0.7267162\n",
            "  0.71388162  0.74191506  0.75002111  0.77222832  0.83049059  0.8194292\n",
            "  0.8289707   0.8125475   0.78776492  0.75162543  0.78426074  0.77974331\n",
            "  0.81326522  0.8141096   0.79473106  0.83336148  0.85898843  0.83901883\n",
            "  0.85628641  0.87486279  0.88782403  0.90095415  0.92793211  0.948535\n",
            "  0.93333615  0.91746179  0.92544119  0.91771511  0.9483239   0.94064004\n",
            "  0.96635143  0.9563033   0.96491598 -0.04579764]\n",
            "1 day output [[-0.0459016]]\n",
            "2 day input [ 0.87431394  0.88431985  0.87836697  0.8986321   0.92582116  0.92877649\n",
            "  0.95676771  0.93869797  0.93304061  0.94950604  0.96424048  0.95512117\n",
            "  0.95989192  0.96635143  0.96246728  0.92295027  0.9598497   0.98792536\n",
            "  0.98594106  0.92531453  0.92172591  0.96474711  0.97572406  0.99159841\n",
            "  0.96972895  0.97614625  0.96795575  1.          0.99016297  0.99050072\n",
            "  0.96538039  0.98488559  0.97086887  0.94026007  0.87748037  0.83483915\n",
            "  0.85413324  0.77336823  0.77269273  0.88014017  0.84007431  0.89673225\n",
            "  0.85527316  0.83884995  0.74233725  0.82327113  0.78143207  0.6665963\n",
            "  0.7921557   0.64118044  0.68614371  0.66001013  0.65203074  0.58642236\n",
            "  0.56586169  0.66089673  0.65515494  0.70970193  0.66452757  0.69437642\n",
            "  0.69218104  0.63569197  0.65266402  0.63780292  0.7267162   0.71388162\n",
            "  0.74191506  0.75002111  0.77222832  0.83049059  0.8194292   0.8289707\n",
            "  0.8125475   0.78776492  0.75162543  0.78426074  0.77974331  0.81326522\n",
            "  0.8141096   0.79473106  0.83336148  0.85898843  0.83901883  0.85628641\n",
            "  0.87486279  0.88782403  0.90095415  0.92793211  0.948535    0.93333615\n",
            "  0.91746179  0.92544119  0.91771511  0.9483239   0.94064004  0.96635143\n",
            "  0.9563033   0.96491598 -0.04579764 -0.0459016 ]\n",
            "2 day output [[-0.04547366]]\n",
            "3 day input [ 0.88431985  0.87836697  0.8986321   0.92582116  0.92877649  0.95676771\n",
            "  0.93869797  0.93304061  0.94950604  0.96424048  0.95512117  0.95989192\n",
            "  0.96635143  0.96246728  0.92295027  0.9598497   0.98792536  0.98594106\n",
            "  0.92531453  0.92172591  0.96474711  0.97572406  0.99159841  0.96972895\n",
            "  0.97614625  0.96795575  1.          0.99016297  0.99050072  0.96538039\n",
            "  0.98488559  0.97086887  0.94026007  0.87748037  0.83483915  0.85413324\n",
            "  0.77336823  0.77269273  0.88014017  0.84007431  0.89673225  0.85527316\n",
            "  0.83884995  0.74233725  0.82327113  0.78143207  0.6665963   0.7921557\n",
            "  0.64118044  0.68614371  0.66001013  0.65203074  0.58642236  0.56586169\n",
            "  0.66089673  0.65515494  0.70970193  0.66452757  0.69437642  0.69218104\n",
            "  0.63569197  0.65266402  0.63780292  0.7267162   0.71388162  0.74191506\n",
            "  0.75002111  0.77222832  0.83049059  0.8194292   0.8289707   0.8125475\n",
            "  0.78776492  0.75162543  0.78426074  0.77974331  0.81326522  0.8141096\n",
            "  0.79473106  0.83336148  0.85898843  0.83901883  0.85628641  0.87486279\n",
            "  0.88782403  0.90095415  0.92793211  0.948535    0.93333615  0.91746179\n",
            "  0.92544119  0.91771511  0.9483239   0.94064004  0.96635143  0.9563033\n",
            "  0.96491598 -0.04579764 -0.0459016  -0.04547366]\n",
            "3 day output [[-0.04436197]]\n",
            "4 day input [ 0.87836697  0.8986321   0.92582116  0.92877649  0.95676771  0.93869797\n",
            "  0.93304061  0.94950604  0.96424048  0.95512117  0.95989192  0.96635143\n",
            "  0.96246728  0.92295027  0.9598497   0.98792536  0.98594106  0.92531453\n",
            "  0.92172591  0.96474711  0.97572406  0.99159841  0.96972895  0.97614625\n",
            "  0.96795575  1.          0.99016297  0.99050072  0.96538039  0.98488559\n",
            "  0.97086887  0.94026007  0.87748037  0.83483915  0.85413324  0.77336823\n",
            "  0.77269273  0.88014017  0.84007431  0.89673225  0.85527316  0.83884995\n",
            "  0.74233725  0.82327113  0.78143207  0.6665963   0.7921557   0.64118044\n",
            "  0.68614371  0.66001013  0.65203074  0.58642236  0.56586169  0.66089673\n",
            "  0.65515494  0.70970193  0.66452757  0.69437642  0.69218104  0.63569197\n",
            "  0.65266402  0.63780292  0.7267162   0.71388162  0.74191506  0.75002111\n",
            "  0.77222832  0.83049059  0.8194292   0.8289707   0.8125475   0.78776492\n",
            "  0.75162543  0.78426074  0.77974331  0.81326522  0.8141096   0.79473106\n",
            "  0.83336148  0.85898843  0.83901883  0.85628641  0.87486279  0.88782403\n",
            "  0.90095415  0.92793211  0.948535    0.93333615  0.91746179  0.92544119\n",
            "  0.91771511  0.9483239   0.94064004  0.96635143  0.9563033   0.96491598\n",
            " -0.04579764 -0.0459016  -0.04547366 -0.04436197]\n",
            "4 day output [[-0.04255572]]\n",
            "5 day input [ 0.8986321   0.92582116  0.92877649  0.95676771  0.93869797  0.93304061\n",
            "  0.94950604  0.96424048  0.95512117  0.95989192  0.96635143  0.96246728\n",
            "  0.92295027  0.9598497   0.98792536  0.98594106  0.92531453  0.92172591\n",
            "  0.96474711  0.97572406  0.99159841  0.96972895  0.97614625  0.96795575\n",
            "  1.          0.99016297  0.99050072  0.96538039  0.98488559  0.97086887\n",
            "  0.94026007  0.87748037  0.83483915  0.85413324  0.77336823  0.77269273\n",
            "  0.88014017  0.84007431  0.89673225  0.85527316  0.83884995  0.74233725\n",
            "  0.82327113  0.78143207  0.6665963   0.7921557   0.64118044  0.68614371\n",
            "  0.66001013  0.65203074  0.58642236  0.56586169  0.66089673  0.65515494\n",
            "  0.70970193  0.66452757  0.69437642  0.69218104  0.63569197  0.65266402\n",
            "  0.63780292  0.7267162   0.71388162  0.74191506  0.75002111  0.77222832\n",
            "  0.83049059  0.8194292   0.8289707   0.8125475   0.78776492  0.75162543\n",
            "  0.78426074  0.77974331  0.81326522  0.8141096   0.79473106  0.83336148\n",
            "  0.85898843  0.83901883  0.85628641  0.87486279  0.88782403  0.90095415\n",
            "  0.92793211  0.948535    0.93333615  0.91746179  0.92544119  0.91771511\n",
            "  0.9483239   0.94064004  0.96635143  0.9563033   0.96491598 -0.04579764\n",
            " -0.0459016  -0.04547366 -0.04436197 -0.04255572]\n",
            "5 day output [[-0.04014983]]\n",
            "6 day input [ 0.92582116  0.92877649  0.95676771  0.93869797  0.93304061  0.94950604\n",
            "  0.96424048  0.95512117  0.95989192  0.96635143  0.96246728  0.92295027\n",
            "  0.9598497   0.98792536  0.98594106  0.92531453  0.92172591  0.96474711\n",
            "  0.97572406  0.99159841  0.96972895  0.97614625  0.96795575  1.\n",
            "  0.99016297  0.99050072  0.96538039  0.98488559  0.97086887  0.94026007\n",
            "  0.87748037  0.83483915  0.85413324  0.77336823  0.77269273  0.88014017\n",
            "  0.84007431  0.89673225  0.85527316  0.83884995  0.74233725  0.82327113\n",
            "  0.78143207  0.6665963   0.7921557   0.64118044  0.68614371  0.66001013\n",
            "  0.65203074  0.58642236  0.56586169  0.66089673  0.65515494  0.70970193\n",
            "  0.66452757  0.69437642  0.69218104  0.63569197  0.65266402  0.63780292\n",
            "  0.7267162   0.71388162  0.74191506  0.75002111  0.77222832  0.83049059\n",
            "  0.8194292   0.8289707   0.8125475   0.78776492  0.75162543  0.78426074\n",
            "  0.77974331  0.81326522  0.8141096   0.79473106  0.83336148  0.85898843\n",
            "  0.83901883  0.85628641  0.87486279  0.88782403  0.90095415  0.92793211\n",
            "  0.948535    0.93333615  0.91746179  0.92544119  0.91771511  0.9483239\n",
            "  0.94064004  0.96635143  0.9563033   0.96491598 -0.04579764 -0.0459016\n",
            " -0.04547366 -0.04436197 -0.04255572 -0.04014983]\n",
            "6 day output [[-0.03729858]]\n",
            "7 day input [ 0.92877649  0.95676771  0.93869797  0.93304061  0.94950604  0.96424048\n",
            "  0.95512117  0.95989192  0.96635143  0.96246728  0.92295027  0.9598497\n",
            "  0.98792536  0.98594106  0.92531453  0.92172591  0.96474711  0.97572406\n",
            "  0.99159841  0.96972895  0.97614625  0.96795575  1.          0.99016297\n",
            "  0.99050072  0.96538039  0.98488559  0.97086887  0.94026007  0.87748037\n",
            "  0.83483915  0.85413324  0.77336823  0.77269273  0.88014017  0.84007431\n",
            "  0.89673225  0.85527316  0.83884995  0.74233725  0.82327113  0.78143207\n",
            "  0.6665963   0.7921557   0.64118044  0.68614371  0.66001013  0.65203074\n",
            "  0.58642236  0.56586169  0.66089673  0.65515494  0.70970193  0.66452757\n",
            "  0.69437642  0.69218104  0.63569197  0.65266402  0.63780292  0.7267162\n",
            "  0.71388162  0.74191506  0.75002111  0.77222832  0.83049059  0.8194292\n",
            "  0.8289707   0.8125475   0.78776492  0.75162543  0.78426074  0.77974331\n",
            "  0.81326522  0.8141096   0.79473106  0.83336148  0.85898843  0.83901883\n",
            "  0.85628641  0.87486279  0.88782403  0.90095415  0.92793211  0.948535\n",
            "  0.93333615  0.91746179  0.92544119  0.91771511  0.9483239   0.94064004\n",
            "  0.96635143  0.9563033   0.96491598 -0.04579764 -0.0459016  -0.04547366\n",
            " -0.04436197 -0.04255572 -0.04014983 -0.03729858]\n",
            "7 day output [[-0.03417519]]\n",
            "8 day input [ 0.95676771  0.93869797  0.93304061  0.94950604  0.96424048  0.95512117\n",
            "  0.95989192  0.96635143  0.96246728  0.92295027  0.9598497   0.98792536\n",
            "  0.98594106  0.92531453  0.92172591  0.96474711  0.97572406  0.99159841\n",
            "  0.96972895  0.97614625  0.96795575  1.          0.99016297  0.99050072\n",
            "  0.96538039  0.98488559  0.97086887  0.94026007  0.87748037  0.83483915\n",
            "  0.85413324  0.77336823  0.77269273  0.88014017  0.84007431  0.89673225\n",
            "  0.85527316  0.83884995  0.74233725  0.82327113  0.78143207  0.6665963\n",
            "  0.7921557   0.64118044  0.68614371  0.66001013  0.65203074  0.58642236\n",
            "  0.56586169  0.66089673  0.65515494  0.70970193  0.66452757  0.69437642\n",
            "  0.69218104  0.63569197  0.65266402  0.63780292  0.7267162   0.71388162\n",
            "  0.74191506  0.75002111  0.77222832  0.83049059  0.8194292   0.8289707\n",
            "  0.8125475   0.78776492  0.75162543  0.78426074  0.77974331  0.81326522\n",
            "  0.8141096   0.79473106  0.83336148  0.85898843  0.83901883  0.85628641\n",
            "  0.87486279  0.88782403  0.90095415  0.92793211  0.948535    0.93333615\n",
            "  0.91746179  0.92544119  0.91771511  0.9483239   0.94064004  0.96635143\n",
            "  0.9563033   0.96491598 -0.04579764 -0.0459016  -0.04547366 -0.04436197\n",
            " -0.04255572 -0.04014983 -0.03729858 -0.03417519]\n",
            "8 day output [[-0.03094264]]\n",
            "9 day input [ 0.93869797  0.93304061  0.94950604  0.96424048  0.95512117  0.95989192\n",
            "  0.96635143  0.96246728  0.92295027  0.9598497   0.98792536  0.98594106\n",
            "  0.92531453  0.92172591  0.96474711  0.97572406  0.99159841  0.96972895\n",
            "  0.97614625  0.96795575  1.          0.99016297  0.99050072  0.96538039\n",
            "  0.98488559  0.97086887  0.94026007  0.87748037  0.83483915  0.85413324\n",
            "  0.77336823  0.77269273  0.88014017  0.84007431  0.89673225  0.85527316\n",
            "  0.83884995  0.74233725  0.82327113  0.78143207  0.6665963   0.7921557\n",
            "  0.64118044  0.68614371  0.66001013  0.65203074  0.58642236  0.56586169\n",
            "  0.66089673  0.65515494  0.70970193  0.66452757  0.69437642  0.69218104\n",
            "  0.63569197  0.65266402  0.63780292  0.7267162   0.71388162  0.74191506\n",
            "  0.75002111  0.77222832  0.83049059  0.8194292   0.8289707   0.8125475\n",
            "  0.78776492  0.75162543  0.78426074  0.77974331  0.81326522  0.8141096\n",
            "  0.79473106  0.83336148  0.85898843  0.83901883  0.85628641  0.87486279\n",
            "  0.88782403  0.90095415  0.92793211  0.948535    0.93333615  0.91746179\n",
            "  0.92544119  0.91771511  0.9483239   0.94064004  0.96635143  0.9563033\n",
            "  0.96491598 -0.04579764 -0.0459016  -0.04547366 -0.04436197 -0.04255572\n",
            " -0.04014983 -0.03729858 -0.03417519 -0.03094264]\n",
            "9 day output [[-0.02773679]]\n",
            "10 day input [ 0.93304061  0.94950604  0.96424048  0.95512117  0.95989192  0.96635143\n",
            "  0.96246728  0.92295027  0.9598497   0.98792536  0.98594106  0.92531453\n",
            "  0.92172591  0.96474711  0.97572406  0.99159841  0.96972895  0.97614625\n",
            "  0.96795575  1.          0.99016297  0.99050072  0.96538039  0.98488559\n",
            "  0.97086887  0.94026007  0.87748037  0.83483915  0.85413324  0.77336823\n",
            "  0.77269273  0.88014017  0.84007431  0.89673225  0.85527316  0.83884995\n",
            "  0.74233725  0.82327113  0.78143207  0.6665963   0.7921557   0.64118044\n",
            "  0.68614371  0.66001013  0.65203074  0.58642236  0.56586169  0.66089673\n",
            "  0.65515494  0.70970193  0.66452757  0.69437642  0.69218104  0.63569197\n",
            "  0.65266402  0.63780292  0.7267162   0.71388162  0.74191506  0.75002111\n",
            "  0.77222832  0.83049059  0.8194292   0.8289707   0.8125475   0.78776492\n",
            "  0.75162543  0.78426074  0.77974331  0.81326522  0.8141096   0.79473106\n",
            "  0.83336148  0.85898843  0.83901883  0.85628641  0.87486279  0.88782403\n",
            "  0.90095415  0.92793211  0.948535    0.93333615  0.91746179  0.92544119\n",
            "  0.91771511  0.9483239   0.94064004  0.96635143  0.9563033   0.96491598\n",
            " -0.04579764 -0.0459016  -0.04547366 -0.04436197 -0.04255572 -0.04014983\n",
            " -0.03729858 -0.03417519 -0.03094264 -0.02773679]\n",
            "10 day output [[-0.02465981]]\n",
            "11 day input [ 0.94950604  0.96424048  0.95512117  0.95989192  0.96635143  0.96246728\n",
            "  0.92295027  0.9598497   0.98792536  0.98594106  0.92531453  0.92172591\n",
            "  0.96474711  0.97572406  0.99159841  0.96972895  0.97614625  0.96795575\n",
            "  1.          0.99016297  0.99050072  0.96538039  0.98488559  0.97086887\n",
            "  0.94026007  0.87748037  0.83483915  0.85413324  0.77336823  0.77269273\n",
            "  0.88014017  0.84007431  0.89673225  0.85527316  0.83884995  0.74233725\n",
            "  0.82327113  0.78143207  0.6665963   0.7921557   0.64118044  0.68614371\n",
            "  0.66001013  0.65203074  0.58642236  0.56586169  0.66089673  0.65515494\n",
            "  0.70970193  0.66452757  0.69437642  0.69218104  0.63569197  0.65266402\n",
            "  0.63780292  0.7267162   0.71388162  0.74191506  0.75002111  0.77222832\n",
            "  0.83049059  0.8194292   0.8289707   0.8125475   0.78776492  0.75162543\n",
            "  0.78426074  0.77974331  0.81326522  0.8141096   0.79473106  0.83336148\n",
            "  0.85898843  0.83901883  0.85628641  0.87486279  0.88782403  0.90095415\n",
            "  0.92793211  0.948535    0.93333615  0.91746179  0.92544119  0.91771511\n",
            "  0.9483239   0.94064004  0.96635143  0.9563033   0.96491598 -0.04579764\n",
            " -0.0459016  -0.04547366 -0.04436197 -0.04255572 -0.04014983 -0.03729858\n",
            " -0.03417519 -0.03094264 -0.02773679 -0.02465981]\n",
            "11 day output [[-0.02178051]]\n",
            "12 day input [ 0.96424048  0.95512117  0.95989192  0.96635143  0.96246728  0.92295027\n",
            "  0.9598497   0.98792536  0.98594106  0.92531453  0.92172591  0.96474711\n",
            "  0.97572406  0.99159841  0.96972895  0.97614625  0.96795575  1.\n",
            "  0.99016297  0.99050072  0.96538039  0.98488559  0.97086887  0.94026007\n",
            "  0.87748037  0.83483915  0.85413324  0.77336823  0.77269273  0.88014017\n",
            "  0.84007431  0.89673225  0.85527316  0.83884995  0.74233725  0.82327113\n",
            "  0.78143207  0.6665963   0.7921557   0.64118044  0.68614371  0.66001013\n",
            "  0.65203074  0.58642236  0.56586169  0.66089673  0.65515494  0.70970193\n",
            "  0.66452757  0.69437642  0.69218104  0.63569197  0.65266402  0.63780292\n",
            "  0.7267162   0.71388162  0.74191506  0.75002111  0.77222832  0.83049059\n",
            "  0.8194292   0.8289707   0.8125475   0.78776492  0.75162543  0.78426074\n",
            "  0.77974331  0.81326522  0.8141096   0.79473106  0.83336148  0.85898843\n",
            "  0.83901883  0.85628641  0.87486279  0.88782403  0.90095415  0.92793211\n",
            "  0.948535    0.93333615  0.91746179  0.92544119  0.91771511  0.9483239\n",
            "  0.94064004  0.96635143  0.9563033   0.96491598 -0.04579764 -0.0459016\n",
            " -0.04547366 -0.04436197 -0.04255572 -0.04014983 -0.03729858 -0.03417519\n",
            " -0.03094264 -0.02773679 -0.02465981 -0.02178051]\n",
            "12 day output [[-0.01913866]]\n",
            "13 day input [ 0.95512117  0.95989192  0.96635143  0.96246728  0.92295027  0.9598497\n",
            "  0.98792536  0.98594106  0.92531453  0.92172591  0.96474711  0.97572406\n",
            "  0.99159841  0.96972895  0.97614625  0.96795575  1.          0.99016297\n",
            "  0.99050072  0.96538039  0.98488559  0.97086887  0.94026007  0.87748037\n",
            "  0.83483915  0.85413324  0.77336823  0.77269273  0.88014017  0.84007431\n",
            "  0.89673225  0.85527316  0.83884995  0.74233725  0.82327113  0.78143207\n",
            "  0.6665963   0.7921557   0.64118044  0.68614371  0.66001013  0.65203074\n",
            "  0.58642236  0.56586169  0.66089673  0.65515494  0.70970193  0.66452757\n",
            "  0.69437642  0.69218104  0.63569197  0.65266402  0.63780292  0.7267162\n",
            "  0.71388162  0.74191506  0.75002111  0.77222832  0.83049059  0.8194292\n",
            "  0.8289707   0.8125475   0.78776492  0.75162543  0.78426074  0.77974331\n",
            "  0.81326522  0.8141096   0.79473106  0.83336148  0.85898843  0.83901883\n",
            "  0.85628641  0.87486279  0.88782403  0.90095415  0.92793211  0.948535\n",
            "  0.93333615  0.91746179  0.92544119  0.91771511  0.9483239   0.94064004\n",
            "  0.96635143  0.9563033   0.96491598 -0.04579764 -0.0459016  -0.04547366\n",
            " -0.04436197 -0.04255572 -0.04014983 -0.03729858 -0.03417519 -0.03094264\n",
            " -0.02773679 -0.02465981 -0.02178051 -0.01913866]\n",
            "13 day output [[-0.01675127]]\n",
            "14 day input [ 0.95989192  0.96635143  0.96246728  0.92295027  0.9598497   0.98792536\n",
            "  0.98594106  0.92531453  0.92172591  0.96474711  0.97572406  0.99159841\n",
            "  0.96972895  0.97614625  0.96795575  1.          0.99016297  0.99050072\n",
            "  0.96538039  0.98488559  0.97086887  0.94026007  0.87748037  0.83483915\n",
            "  0.85413324  0.77336823  0.77269273  0.88014017  0.84007431  0.89673225\n",
            "  0.85527316  0.83884995  0.74233725  0.82327113  0.78143207  0.6665963\n",
            "  0.7921557   0.64118044  0.68614371  0.66001013  0.65203074  0.58642236\n",
            "  0.56586169  0.66089673  0.65515494  0.70970193  0.66452757  0.69437642\n",
            "  0.69218104  0.63569197  0.65266402  0.63780292  0.7267162   0.71388162\n",
            "  0.74191506  0.75002111  0.77222832  0.83049059  0.8194292   0.8289707\n",
            "  0.8125475   0.78776492  0.75162543  0.78426074  0.77974331  0.81326522\n",
            "  0.8141096   0.79473106  0.83336148  0.85898843  0.83901883  0.85628641\n",
            "  0.87486279  0.88782403  0.90095415  0.92793211  0.948535    0.93333615\n",
            "  0.91746179  0.92544119  0.91771511  0.9483239   0.94064004  0.96635143\n",
            "  0.9563033   0.96491598 -0.04579764 -0.0459016  -0.04547366 -0.04436197\n",
            " -0.04255572 -0.04014983 -0.03729858 -0.03417519 -0.03094264 -0.02773679\n",
            " -0.02465981 -0.02178051 -0.01913866 -0.01675127]\n",
            "14 day output [[-0.01461862]]\n",
            "15 day input [ 0.96635143  0.96246728  0.92295027  0.9598497   0.98792536  0.98594106\n",
            "  0.92531453  0.92172591  0.96474711  0.97572406  0.99159841  0.96972895\n",
            "  0.97614625  0.96795575  1.          0.99016297  0.99050072  0.96538039\n",
            "  0.98488559  0.97086887  0.94026007  0.87748037  0.83483915  0.85413324\n",
            "  0.77336823  0.77269273  0.88014017  0.84007431  0.89673225  0.85527316\n",
            "  0.83884995  0.74233725  0.82327113  0.78143207  0.6665963   0.7921557\n",
            "  0.64118044  0.68614371  0.66001013  0.65203074  0.58642236  0.56586169\n",
            "  0.66089673  0.65515494  0.70970193  0.66452757  0.69437642  0.69218104\n",
            "  0.63569197  0.65266402  0.63780292  0.7267162   0.71388162  0.74191506\n",
            "  0.75002111  0.77222832  0.83049059  0.8194292   0.8289707   0.8125475\n",
            "  0.78776492  0.75162543  0.78426074  0.77974331  0.81326522  0.8141096\n",
            "  0.79473106  0.83336148  0.85898843  0.83901883  0.85628641  0.87486279\n",
            "  0.88782403  0.90095415  0.92793211  0.948535    0.93333615  0.91746179\n",
            "  0.92544119  0.91771511  0.9483239   0.94064004  0.96635143  0.9563033\n",
            "  0.96491598 -0.04579764 -0.0459016  -0.04547366 -0.04436197 -0.04255572\n",
            " -0.04014983 -0.03729858 -0.03417519 -0.03094264 -0.02773679 -0.02465981\n",
            " -0.02178051 -0.01913866 -0.01675127 -0.01461862]\n",
            "15 day output [[-0.01272988]]\n",
            "16 day input [ 0.96246728  0.92295027  0.9598497   0.98792536  0.98594106  0.92531453\n",
            "  0.92172591  0.96474711  0.97572406  0.99159841  0.96972895  0.97614625\n",
            "  0.96795575  1.          0.99016297  0.99050072  0.96538039  0.98488559\n",
            "  0.97086887  0.94026007  0.87748037  0.83483915  0.85413324  0.77336823\n",
            "  0.77269273  0.88014017  0.84007431  0.89673225  0.85527316  0.83884995\n",
            "  0.74233725  0.82327113  0.78143207  0.6665963   0.7921557   0.64118044\n",
            "  0.68614371  0.66001013  0.65203074  0.58642236  0.56586169  0.66089673\n",
            "  0.65515494  0.70970193  0.66452757  0.69437642  0.69218104  0.63569197\n",
            "  0.65266402  0.63780292  0.7267162   0.71388162  0.74191506  0.75002111\n",
            "  0.77222832  0.83049059  0.8194292   0.8289707   0.8125475   0.78776492\n",
            "  0.75162543  0.78426074  0.77974331  0.81326522  0.8141096   0.79473106\n",
            "  0.83336148  0.85898843  0.83901883  0.85628641  0.87486279  0.88782403\n",
            "  0.90095415  0.92793211  0.948535    0.93333615  0.91746179  0.92544119\n",
            "  0.91771511  0.9483239   0.94064004  0.96635143  0.9563033   0.96491598\n",
            " -0.04579764 -0.0459016  -0.04547366 -0.04436197 -0.04255572 -0.04014983\n",
            " -0.03729858 -0.03417519 -0.03094264 -0.02773679 -0.02465981 -0.02178051\n",
            " -0.01913866 -0.01675127 -0.01461862 -0.01272988]\n",
            "16 day output [[-0.01106744]]\n",
            "17 day input [ 0.92295027  0.9598497   0.98792536  0.98594106  0.92531453  0.92172591\n",
            "  0.96474711  0.97572406  0.99159841  0.96972895  0.97614625  0.96795575\n",
            "  1.          0.99016297  0.99050072  0.96538039  0.98488559  0.97086887\n",
            "  0.94026007  0.87748037  0.83483915  0.85413324  0.77336823  0.77269273\n",
            "  0.88014017  0.84007431  0.89673225  0.85527316  0.83884995  0.74233725\n",
            "  0.82327113  0.78143207  0.6665963   0.7921557   0.64118044  0.68614371\n",
            "  0.66001013  0.65203074  0.58642236  0.56586169  0.66089673  0.65515494\n",
            "  0.70970193  0.66452757  0.69437642  0.69218104  0.63569197  0.65266402\n",
            "  0.63780292  0.7267162   0.71388162  0.74191506  0.75002111  0.77222832\n",
            "  0.83049059  0.8194292   0.8289707   0.8125475   0.78776492  0.75162543\n",
            "  0.78426074  0.77974331  0.81326522  0.8141096   0.79473106  0.83336148\n",
            "  0.85898843  0.83901883  0.85628641  0.87486279  0.88782403  0.90095415\n",
            "  0.92793211  0.948535    0.93333615  0.91746179  0.92544119  0.91771511\n",
            "  0.9483239   0.94064004  0.96635143  0.9563033   0.96491598 -0.04579764\n",
            " -0.0459016  -0.04547366 -0.04436197 -0.04255572 -0.04014983 -0.03729858\n",
            " -0.03417519 -0.03094264 -0.02773679 -0.02465981 -0.02178051 -0.01913866\n",
            " -0.01675127 -0.01461862 -0.01272988 -0.01106744]\n",
            "17 day output [[-0.00961036]]\n",
            "18 day input [ 0.9598497   0.98792536  0.98594106  0.92531453  0.92172591  0.96474711\n",
            "  0.97572406  0.99159841  0.96972895  0.97614625  0.96795575  1.\n",
            "  0.99016297  0.99050072  0.96538039  0.98488559  0.97086887  0.94026007\n",
            "  0.87748037  0.83483915  0.85413324  0.77336823  0.77269273  0.88014017\n",
            "  0.84007431  0.89673225  0.85527316  0.83884995  0.74233725  0.82327113\n",
            "  0.78143207  0.6665963   0.7921557   0.64118044  0.68614371  0.66001013\n",
            "  0.65203074  0.58642236  0.56586169  0.66089673  0.65515494  0.70970193\n",
            "  0.66452757  0.69437642  0.69218104  0.63569197  0.65266402  0.63780292\n",
            "  0.7267162   0.71388162  0.74191506  0.75002111  0.77222832  0.83049059\n",
            "  0.8194292   0.8289707   0.8125475   0.78776492  0.75162543  0.78426074\n",
            "  0.77974331  0.81326522  0.8141096   0.79473106  0.83336148  0.85898843\n",
            "  0.83901883  0.85628641  0.87486279  0.88782403  0.90095415  0.92793211\n",
            "  0.948535    0.93333615  0.91746179  0.92544119  0.91771511  0.9483239\n",
            "  0.94064004  0.96635143  0.9563033   0.96491598 -0.04579764 -0.0459016\n",
            " -0.04547366 -0.04436197 -0.04255572 -0.04014983 -0.03729858 -0.03417519\n",
            " -0.03094264 -0.02773679 -0.02465981 -0.02178051 -0.01913866 -0.01675127\n",
            " -0.01461862 -0.01272988 -0.01106744 -0.00961036]\n",
            "18 day output [[-0.00833659]]\n",
            "19 day input [ 0.98792536  0.98594106  0.92531453  0.92172591  0.96474711  0.97572406\n",
            "  0.99159841  0.96972895  0.97614625  0.96795575  1.          0.99016297\n",
            "  0.99050072  0.96538039  0.98488559  0.97086887  0.94026007  0.87748037\n",
            "  0.83483915  0.85413324  0.77336823  0.77269273  0.88014017  0.84007431\n",
            "  0.89673225  0.85527316  0.83884995  0.74233725  0.82327113  0.78143207\n",
            "  0.6665963   0.7921557   0.64118044  0.68614371  0.66001013  0.65203074\n",
            "  0.58642236  0.56586169  0.66089673  0.65515494  0.70970193  0.66452757\n",
            "  0.69437642  0.69218104  0.63569197  0.65266402  0.63780292  0.7267162\n",
            "  0.71388162  0.74191506  0.75002111  0.77222832  0.83049059  0.8194292\n",
            "  0.8289707   0.8125475   0.78776492  0.75162543  0.78426074  0.77974331\n",
            "  0.81326522  0.8141096   0.79473106  0.83336148  0.85898843  0.83901883\n",
            "  0.85628641  0.87486279  0.88782403  0.90095415  0.92793211  0.948535\n",
            "  0.93333615  0.91746179  0.92544119  0.91771511  0.9483239   0.94064004\n",
            "  0.96635143  0.9563033   0.96491598 -0.04579764 -0.0459016  -0.04547366\n",
            " -0.04436197 -0.04255572 -0.04014983 -0.03729858 -0.03417519 -0.03094264\n",
            " -0.02773679 -0.02465981 -0.02178051 -0.01913866 -0.01675127 -0.01461862\n",
            " -0.01272988 -0.01106744 -0.00961036 -0.00833659]\n",
            "19 day output [[-0.00722458]]\n",
            "20 day input [ 0.98594106  0.92531453  0.92172591  0.96474711  0.97572406  0.99159841\n",
            "  0.96972895  0.97614625  0.96795575  1.          0.99016297  0.99050072\n",
            "  0.96538039  0.98488559  0.97086887  0.94026007  0.87748037  0.83483915\n",
            "  0.85413324  0.77336823  0.77269273  0.88014017  0.84007431  0.89673225\n",
            "  0.85527316  0.83884995  0.74233725  0.82327113  0.78143207  0.6665963\n",
            "  0.7921557   0.64118044  0.68614371  0.66001013  0.65203074  0.58642236\n",
            "  0.56586169  0.66089673  0.65515494  0.70970193  0.66452757  0.69437642\n",
            "  0.69218104  0.63569197  0.65266402  0.63780292  0.7267162   0.71388162\n",
            "  0.74191506  0.75002111  0.77222832  0.83049059  0.8194292   0.8289707\n",
            "  0.8125475   0.78776492  0.75162543  0.78426074  0.77974331  0.81326522\n",
            "  0.8141096   0.79473106  0.83336148  0.85898843  0.83901883  0.85628641\n",
            "  0.87486279  0.88782403  0.90095415  0.92793211  0.948535    0.93333615\n",
            "  0.91746179  0.92544119  0.91771511  0.9483239   0.94064004  0.96635143\n",
            "  0.9563033   0.96491598 -0.04579764 -0.0459016  -0.04547366 -0.04436197\n",
            " -0.04255572 -0.04014983 -0.03729858 -0.03417519 -0.03094264 -0.02773679\n",
            " -0.02465981 -0.02178051 -0.01913866 -0.01675127 -0.01461862 -0.01272988\n",
            " -0.01106744 -0.00961036 -0.00833659 -0.00722458]\n",
            "20 day output [[-0.00625422]]\n",
            "21 day input [ 0.92531453  0.92172591  0.96474711  0.97572406  0.99159841  0.96972895\n",
            "  0.97614625  0.96795575  1.          0.99016297  0.99050072  0.96538039\n",
            "  0.98488559  0.97086887  0.94026007  0.87748037  0.83483915  0.85413324\n",
            "  0.77336823  0.77269273  0.88014017  0.84007431  0.89673225  0.85527316\n",
            "  0.83884995  0.74233725  0.82327113  0.78143207  0.6665963   0.7921557\n",
            "  0.64118044  0.68614371  0.66001013  0.65203074  0.58642236  0.56586169\n",
            "  0.66089673  0.65515494  0.70970193  0.66452757  0.69437642  0.69218104\n",
            "  0.63569197  0.65266402  0.63780292  0.7267162   0.71388162  0.74191506\n",
            "  0.75002111  0.77222832  0.83049059  0.8194292   0.8289707   0.8125475\n",
            "  0.78776492  0.75162543  0.78426074  0.77974331  0.81326522  0.8141096\n",
            "  0.79473106  0.83336148  0.85898843  0.83901883  0.85628641  0.87486279\n",
            "  0.88782403  0.90095415  0.92793211  0.948535    0.93333615  0.91746179\n",
            "  0.92544119  0.91771511  0.9483239   0.94064004  0.96635143  0.9563033\n",
            "  0.96491598 -0.04579764 -0.0459016  -0.04547366 -0.04436197 -0.04255572\n",
            " -0.04014983 -0.03729858 -0.03417519 -0.03094264 -0.02773679 -0.02465981\n",
            " -0.02178051 -0.01913866 -0.01675127 -0.01461862 -0.01272988 -0.01106744\n",
            " -0.00961036 -0.00833659 -0.00722458 -0.00625422]\n",
            "21 day output [[-0.00540731]]\n",
            "22 day input [ 0.92172591  0.96474711  0.97572406  0.99159841  0.96972895  0.97614625\n",
            "  0.96795575  1.          0.99016297  0.99050072  0.96538039  0.98488559\n",
            "  0.97086887  0.94026007  0.87748037  0.83483915  0.85413324  0.77336823\n",
            "  0.77269273  0.88014017  0.84007431  0.89673225  0.85527316  0.83884995\n",
            "  0.74233725  0.82327113  0.78143207  0.6665963   0.7921557   0.64118044\n",
            "  0.68614371  0.66001013  0.65203074  0.58642236  0.56586169  0.66089673\n",
            "  0.65515494  0.70970193  0.66452757  0.69437642  0.69218104  0.63569197\n",
            "  0.65266402  0.63780292  0.7267162   0.71388162  0.74191506  0.75002111\n",
            "  0.77222832  0.83049059  0.8194292   0.8289707   0.8125475   0.78776492\n",
            "  0.75162543  0.78426074  0.77974331  0.81326522  0.8141096   0.79473106\n",
            "  0.83336148  0.85898843  0.83901883  0.85628641  0.87486279  0.88782403\n",
            "  0.90095415  0.92793211  0.948535    0.93333615  0.91746179  0.92544119\n",
            "  0.91771511  0.9483239   0.94064004  0.96635143  0.9563033   0.96491598\n",
            " -0.04579764 -0.0459016  -0.04547366 -0.04436197 -0.04255572 -0.04014983\n",
            " -0.03729858 -0.03417519 -0.03094264 -0.02773679 -0.02465981 -0.02178051\n",
            " -0.01913866 -0.01675127 -0.01461862 -0.01272988 -0.01106744 -0.00961036\n",
            " -0.00833659 -0.00722458 -0.00625422 -0.00540731]\n",
            "22 day output [[-0.00466776]]\n",
            "23 day input [ 0.96474711  0.97572406  0.99159841  0.96972895  0.97614625  0.96795575\n",
            "  1.          0.99016297  0.99050072  0.96538039  0.98488559  0.97086887\n",
            "  0.94026007  0.87748037  0.83483915  0.85413324  0.77336823  0.77269273\n",
            "  0.88014017  0.84007431  0.89673225  0.85527316  0.83884995  0.74233725\n",
            "  0.82327113  0.78143207  0.6665963   0.7921557   0.64118044  0.68614371\n",
            "  0.66001013  0.65203074  0.58642236  0.56586169  0.66089673  0.65515494\n",
            "  0.70970193  0.66452757  0.69437642  0.69218104  0.63569197  0.65266402\n",
            "  0.63780292  0.7267162   0.71388162  0.74191506  0.75002111  0.77222832\n",
            "  0.83049059  0.8194292   0.8289707   0.8125475   0.78776492  0.75162543\n",
            "  0.78426074  0.77974331  0.81326522  0.8141096   0.79473106  0.83336148\n",
            "  0.85898843  0.83901883  0.85628641  0.87486279  0.88782403  0.90095415\n",
            "  0.92793211  0.948535    0.93333615  0.91746179  0.92544119  0.91771511\n",
            "  0.9483239   0.94064004  0.96635143  0.9563033   0.96491598 -0.04579764\n",
            " -0.0459016  -0.04547366 -0.04436197 -0.04255572 -0.04014983 -0.03729858\n",
            " -0.03417519 -0.03094264 -0.02773679 -0.02465981 -0.02178051 -0.01913866\n",
            " -0.01675127 -0.01461862 -0.01272988 -0.01106744 -0.00961036 -0.00833659\n",
            " -0.00722458 -0.00625422 -0.00540731 -0.00466776]\n",
            "23 day output [[-0.00402158]]\n",
            "24 day input [ 0.97572406  0.99159841  0.96972895  0.97614625  0.96795575  1.\n",
            "  0.99016297  0.99050072  0.96538039  0.98488559  0.97086887  0.94026007\n",
            "  0.87748037  0.83483915  0.85413324  0.77336823  0.77269273  0.88014017\n",
            "  0.84007431  0.89673225  0.85527316  0.83884995  0.74233725  0.82327113\n",
            "  0.78143207  0.6665963   0.7921557   0.64118044  0.68614371  0.66001013\n",
            "  0.65203074  0.58642236  0.56586169  0.66089673  0.65515494  0.70970193\n",
            "  0.66452757  0.69437642  0.69218104  0.63569197  0.65266402  0.63780292\n",
            "  0.7267162   0.71388162  0.74191506  0.75002111  0.77222832  0.83049059\n",
            "  0.8194292   0.8289707   0.8125475   0.78776492  0.75162543  0.78426074\n",
            "  0.77974331  0.81326522  0.8141096   0.79473106  0.83336148  0.85898843\n",
            "  0.83901883  0.85628641  0.87486279  0.88782403  0.90095415  0.92793211\n",
            "  0.948535    0.93333615  0.91746179  0.92544119  0.91771511  0.9483239\n",
            "  0.94064004  0.96635143  0.9563033   0.96491598 -0.04579764 -0.0459016\n",
            " -0.04547366 -0.04436197 -0.04255572 -0.04014983 -0.03729858 -0.03417519\n",
            " -0.03094264 -0.02773679 -0.02465981 -0.02178051 -0.01913866 -0.01675127\n",
            " -0.01461862 -0.01272988 -0.01106744 -0.00961036 -0.00833659 -0.00722458\n",
            " -0.00625422 -0.00540731 -0.00466776 -0.00402158]\n",
            "24 day output [[-0.00345671]]\n",
            "25 day input [ 0.99159841  0.96972895  0.97614625  0.96795575  1.          0.99016297\n",
            "  0.99050072  0.96538039  0.98488559  0.97086887  0.94026007  0.87748037\n",
            "  0.83483915  0.85413324  0.77336823  0.77269273  0.88014017  0.84007431\n",
            "  0.89673225  0.85527316  0.83884995  0.74233725  0.82327113  0.78143207\n",
            "  0.6665963   0.7921557   0.64118044  0.68614371  0.66001013  0.65203074\n",
            "  0.58642236  0.56586169  0.66089673  0.65515494  0.70970193  0.66452757\n",
            "  0.69437642  0.69218104  0.63569197  0.65266402  0.63780292  0.7267162\n",
            "  0.71388162  0.74191506  0.75002111  0.77222832  0.83049059  0.8194292\n",
            "  0.8289707   0.8125475   0.78776492  0.75162543  0.78426074  0.77974331\n",
            "  0.81326522  0.8141096   0.79473106  0.83336148  0.85898843  0.83901883\n",
            "  0.85628641  0.87486279  0.88782403  0.90095415  0.92793211  0.948535\n",
            "  0.93333615  0.91746179  0.92544119  0.91771511  0.9483239   0.94064004\n",
            "  0.96635143  0.9563033   0.96491598 -0.04579764 -0.0459016  -0.04547366\n",
            " -0.04436197 -0.04255572 -0.04014983 -0.03729858 -0.03417519 -0.03094264\n",
            " -0.02773679 -0.02465981 -0.02178051 -0.01913866 -0.01675127 -0.01461862\n",
            " -0.01272988 -0.01106744 -0.00961036 -0.00833659 -0.00722458 -0.00625422\n",
            " -0.00540731 -0.00466776 -0.00402158 -0.00345671]\n",
            "25 day output [[-0.00296285]]\n",
            "26 day input [ 0.96972895  0.97614625  0.96795575  1.          0.99016297  0.99050072\n",
            "  0.96538039  0.98488559  0.97086887  0.94026007  0.87748037  0.83483915\n",
            "  0.85413324  0.77336823  0.77269273  0.88014017  0.84007431  0.89673225\n",
            "  0.85527316  0.83884995  0.74233725  0.82327113  0.78143207  0.6665963\n",
            "  0.7921557   0.64118044  0.68614371  0.66001013  0.65203074  0.58642236\n",
            "  0.56586169  0.66089673  0.65515494  0.70970193  0.66452757  0.69437642\n",
            "  0.69218104  0.63569197  0.65266402  0.63780292  0.7267162   0.71388162\n",
            "  0.74191506  0.75002111  0.77222832  0.83049059  0.8194292   0.8289707\n",
            "  0.8125475   0.78776492  0.75162543  0.78426074  0.77974331  0.81326522\n",
            "  0.8141096   0.79473106  0.83336148  0.85898843  0.83901883  0.85628641\n",
            "  0.87486279  0.88782403  0.90095415  0.92793211  0.948535    0.93333615\n",
            "  0.91746179  0.92544119  0.91771511  0.9483239   0.94064004  0.96635143\n",
            "  0.9563033   0.96491598 -0.04579764 -0.0459016  -0.04547366 -0.04436197\n",
            " -0.04255572 -0.04014983 -0.03729858 -0.03417519 -0.03094264 -0.02773679\n",
            " -0.02465981 -0.02178051 -0.01913866 -0.01675127 -0.01461862 -0.01272988\n",
            " -0.01106744 -0.00961036 -0.00833659 -0.00722458 -0.00625422 -0.00540731\n",
            " -0.00466776 -0.00402158 -0.00345671 -0.00296285]\n",
            "26 day output [[-0.00253122]]\n",
            "27 day input [ 0.97614625  0.96795575  1.          0.99016297  0.99050072  0.96538039\n",
            "  0.98488559  0.97086887  0.94026007  0.87748037  0.83483915  0.85413324\n",
            "  0.77336823  0.77269273  0.88014017  0.84007431  0.89673225  0.85527316\n",
            "  0.83884995  0.74233725  0.82327113  0.78143207  0.6665963   0.7921557\n",
            "  0.64118044  0.68614371  0.66001013  0.65203074  0.58642236  0.56586169\n",
            "  0.66089673  0.65515494  0.70970193  0.66452757  0.69437642  0.69218104\n",
            "  0.63569197  0.65266402  0.63780292  0.7267162   0.71388162  0.74191506\n",
            "  0.75002111  0.77222832  0.83049059  0.8194292   0.8289707   0.8125475\n",
            "  0.78776492  0.75162543  0.78426074  0.77974331  0.81326522  0.8141096\n",
            "  0.79473106  0.83336148  0.85898843  0.83901883  0.85628641  0.87486279\n",
            "  0.88782403  0.90095415  0.92793211  0.948535    0.93333615  0.91746179\n",
            "  0.92544119  0.91771511  0.9483239   0.94064004  0.96635143  0.9563033\n",
            "  0.96491598 -0.04579764 -0.0459016  -0.04547366 -0.04436197 -0.04255572\n",
            " -0.04014983 -0.03729858 -0.03417519 -0.03094264 -0.02773679 -0.02465981\n",
            " -0.02178051 -0.01913866 -0.01675127 -0.01461862 -0.01272988 -0.01106744\n",
            " -0.00961036 -0.00833659 -0.00722458 -0.00625422 -0.00540731 -0.00466776\n",
            " -0.00402158 -0.00345671 -0.00296285 -0.00253122]\n",
            "27 day output [[-0.0021543]]\n",
            "28 day input [ 0.96795575  1.          0.99016297  0.99050072  0.96538039  0.98488559\n",
            "  0.97086887  0.94026007  0.87748037  0.83483915  0.85413324  0.77336823\n",
            "  0.77269273  0.88014017  0.84007431  0.89673225  0.85527316  0.83884995\n",
            "  0.74233725  0.82327113  0.78143207  0.6665963   0.7921557   0.64118044\n",
            "  0.68614371  0.66001013  0.65203074  0.58642236  0.56586169  0.66089673\n",
            "  0.65515494  0.70970193  0.66452757  0.69437642  0.69218104  0.63569197\n",
            "  0.65266402  0.63780292  0.7267162   0.71388162  0.74191506  0.75002111\n",
            "  0.77222832  0.83049059  0.8194292   0.8289707   0.8125475   0.78776492\n",
            "  0.75162543  0.78426074  0.77974331  0.81326522  0.8141096   0.79473106\n",
            "  0.83336148  0.85898843  0.83901883  0.85628641  0.87486279  0.88782403\n",
            "  0.90095415  0.92793211  0.948535    0.93333615  0.91746179  0.92544119\n",
            "  0.91771511  0.9483239   0.94064004  0.96635143  0.9563033   0.96491598\n",
            " -0.04579764 -0.0459016  -0.04547366 -0.04436197 -0.04255572 -0.04014983\n",
            " -0.03729858 -0.03417519 -0.03094264 -0.02773679 -0.02465981 -0.02178051\n",
            " -0.01913866 -0.01675127 -0.01461862 -0.01272988 -0.01106744 -0.00961036\n",
            " -0.00833659 -0.00722458 -0.00625422 -0.00540731 -0.00466776 -0.00402158\n",
            " -0.00345671 -0.00296285 -0.00253122 -0.0021543 ]\n",
            "28 day output [[-0.00182566]]\n",
            "29 day input [ 1.          0.99016297  0.99050072  0.96538039  0.98488559  0.97086887\n",
            "  0.94026007  0.87748037  0.83483915  0.85413324  0.77336823  0.77269273\n",
            "  0.88014017  0.84007431  0.89673225  0.85527316  0.83884995  0.74233725\n",
            "  0.82327113  0.78143207  0.6665963   0.7921557   0.64118044  0.68614371\n",
            "  0.66001013  0.65203074  0.58642236  0.56586169  0.66089673  0.65515494\n",
            "  0.70970193  0.66452757  0.69437642  0.69218104  0.63569197  0.65266402\n",
            "  0.63780292  0.7267162   0.71388162  0.74191506  0.75002111  0.77222832\n",
            "  0.83049059  0.8194292   0.8289707   0.8125475   0.78776492  0.75162543\n",
            "  0.78426074  0.77974331  0.81326522  0.8141096   0.79473106  0.83336148\n",
            "  0.85898843  0.83901883  0.85628641  0.87486279  0.88782403  0.90095415\n",
            "  0.92793211  0.948535    0.93333615  0.91746179  0.92544119  0.91771511\n",
            "  0.9483239   0.94064004  0.96635143  0.9563033   0.96491598 -0.04579764\n",
            " -0.0459016  -0.04547366 -0.04436197 -0.04255572 -0.04014983 -0.03729858\n",
            " -0.03417519 -0.03094264 -0.02773679 -0.02465981 -0.02178051 -0.01913866\n",
            " -0.01675127 -0.01461862 -0.01272988 -0.01106744 -0.00961036 -0.00833659\n",
            " -0.00722458 -0.00625422 -0.00540731 -0.00466776 -0.00402158 -0.00345671\n",
            " -0.00296285 -0.00253122 -0.0021543  -0.00182566]\n",
            "29 day output [[-0.00153973]]\n",
            "[[-0.04579763859510422], [-0.045901596546173096], [-0.04547365754842758], [-0.04436196759343147], [-0.04255571588873863], [-0.040149834007024765], [-0.03729858249425888], [-0.034175191074609756], [-0.03094264306128025], [-0.027736788615584373], [-0.024659814313054085], [-0.021780507639050484], [-0.01913866400718689], [-0.01675126515328884], [-0.014618619345128536], [-0.012729877606034279], [-0.011067438870668411], [-0.00961036141961813], [-0.008336585015058517], [-0.007224575616419315], [-0.006254217121750116], [-0.005407310090959072], [-0.004667761269956827], [-0.0040215784683823586], [-0.0034567094407975674], [-0.00296285143122077], [-0.0025312178768217564], [-0.0021543018519878387], [-0.0018256600014865398], [-0.001539730466902256]]\n"
          ]
        }
      ]
    },
    {
      "cell_type": "code",
      "source": [
        "day_new=np.arange(1,101)"
      ],
      "metadata": {
        "id": "_Vbva35atZJF"
      },
      "execution_count": 75,
      "outputs": []
    },
    {
      "cell_type": "code",
      "source": [
        "day_pred=np.arange(101,131)"
      ],
      "metadata": {
        "id": "Sv3IYVBiteVu"
      },
      "execution_count": 76,
      "outputs": []
    },
    {
      "cell_type": "code",
      "source": [
        "plt.plot(day_new,scaler.inverse_transform(data1[1158:]) , color=\"green\")\n",
        "plt.plot(day_pred,scaler.inverse_transform(lst_output) , color = \"orange\")"
      ],
      "metadata": {
        "colab": {
          "base_uri": "https://localhost:8080/",
          "height": 447
        },
        "id": "OYIedg1ZtgKJ",
        "outputId": "5beeacb2-85a7-4910-9b45-e619f566c00f"
      },
      "execution_count": 77,
      "outputs": [
        {
          "output_type": "execute_result",
          "data": {
            "text/plain": [
              "[<matplotlib.lines.Line2D at 0x7b091ab20cd0>]"
            ]
          },
          "metadata": {},
          "execution_count": 77
        },
        {
          "output_type": "display_data",
          "data": {
            "text/plain": [
              "<Figure size 640x480 with 1 Axes>"
            ],
            "image/png": "[encoded data removed]"
          },
          "metadata": {}
        }
      ]
    },
    {
      "cell_type": "code",
      "source": [
        "data3 = data1.tolist()\n",
        "data3.extend(lst_output)\n",
        "plt.plot(data3[1200:] , color = \"green\")"
      ],
      "metadata": {
        "colab": {
          "base_uri": "https://localhost:8080/",
          "height": 447
        },
        "id": "tF5aAbYTti0Z",
        "outputId": "fa4aa571-158c-463a-92c8-98d00f47917b"
      },
      "execution_count": 78,
      "outputs": [
        {
          "output_type": "execute_result",
          "data": {
            "text/plain": [
              "[<matplotlib.lines.Line2D at 0x7b092c164e80>]"
            ]
          },
          "metadata": {},
          "execution_count": 78
        },
        {
          "output_type": "display_data",
          "data": {
            "text/plain": [
              "<Figure size 640x480 with 1 Axes>"
            ],
            "image/png": "[encoded data removed]"
          },
          "metadata": {}
        }
      ]
    }
  ]
}